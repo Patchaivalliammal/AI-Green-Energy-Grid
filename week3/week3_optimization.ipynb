{
 "cells": [
  {
   "cell_type": "code",
   "execution_count": 1,
   "id": "66c099ae-fd5d-4f91-8a91-5172776e7ba3",
   "metadata": {},
   "outputs": [],
   "source": [
    "# Week 3: Optimization & Scheduling\n",
    "import pandas as pd\n",
    "import matplotlib.pyplot as plt\n"
   ]
  },
  {
   "cell_type": "code",
   "execution_count": 4,
   "id": "ba882f42-2bfa-434f-87b3-977e154822c7",
   "metadata": {},
   "outputs": [
    {
     "data": {
      "text/html": [
       "<div>\n",
       "<style scoped>\n",
       "    .dataframe tbody tr th:only-of-type {\n",
       "        vertical-align: middle;\n",
       "    }\n",
       "\n",
       "    .dataframe tbody tr th {\n",
       "        vertical-align: top;\n",
       "    }\n",
       "\n",
       "    .dataframe thead th {\n",
       "        text-align: right;\n",
       "    }\n",
       "</style>\n",
       "<table border=\"1\" class=\"dataframe\">\n",
       "  <thead>\n",
       "    <tr style=\"text-align: right;\">\n",
       "      <th></th>\n",
       "      <th>date</th>\n",
       "      <th>waste_forecast</th>\n",
       "      <th>energy_forecast</th>\n",
       "    </tr>\n",
       "  </thead>\n",
       "  <tbody>\n",
       "    <tr>\n",
       "      <th>0</th>\n",
       "      <td>2025-01-31</td>\n",
       "      <td>107.255172</td>\n",
       "      <td>181.381609</td>\n",
       "    </tr>\n",
       "    <tr>\n",
       "      <th>1</th>\n",
       "      <td>2025-02-01</td>\n",
       "      <td>107.910345</td>\n",
       "      <td>180.352466</td>\n",
       "    </tr>\n",
       "    <tr>\n",
       "      <th>2</th>\n",
       "      <td>2025-02-02</td>\n",
       "      <td>108.565517</td>\n",
       "      <td>179.323322</td>\n",
       "    </tr>\n",
       "    <tr>\n",
       "      <th>3</th>\n",
       "      <td>2025-02-03</td>\n",
       "      <td>109.220690</td>\n",
       "      <td>178.294179</td>\n",
       "    </tr>\n",
       "    <tr>\n",
       "      <th>4</th>\n",
       "      <td>2025-02-04</td>\n",
       "      <td>109.875862</td>\n",
       "      <td>177.265035</td>\n",
       "    </tr>\n",
       "  </tbody>\n",
       "</table>\n",
       "</div>"
      ],
      "text/plain": [
       "         date  waste_forecast  energy_forecast\n",
       "0  2025-01-31      107.255172       181.381609\n",
       "1  2025-02-01      107.910345       180.352466\n",
       "2  2025-02-02      108.565517       179.323322\n",
       "3  2025-02-03      109.220690       178.294179\n",
       "4  2025-02-04      109.875862       177.265035"
      ]
     },
     "execution_count": 4,
     "metadata": {},
     "output_type": "execute_result"
    }
   ],
   "source": [
    "import pandas as pd\n",
    "\n",
    "forecast_df = pd.read_csv(r\"C:\\Users\\91735\\OneDrive\\Desktop\\AI-Green-Energy-Grid\\forecast_df.csv\")\n",
    "forecast_df.head()\n"
   ]
  },
  {
   "cell_type": "code",
   "execution_count": 5,
   "id": "9c8b3016-9041-4146-8840-5bfb9e379c7a",
   "metadata": {},
   "outputs": [],
   "source": [
    "# Step 2: Define conversion assumptions\n",
    "WASTE_TO_ENERGY = 500   # kWh per ton of waste\n",
    "CO2_TO_ENERGY = 0.1     # kWh per ppm CO2\n"
   ]
  },
  {
   "cell_type": "code",
   "execution_count": 6,
   "id": "8d167b93-8995-410f-aa9b-e529354767e5",
   "metadata": {},
   "outputs": [
    {
     "data": {
      "text/html": [
       "<div>\n",
       "<style scoped>\n",
       "    .dataframe tbody tr th:only-of-type {\n",
       "        vertical-align: middle;\n",
       "    }\n",
       "\n",
       "    .dataframe tbody tr th {\n",
       "        vertical-align: top;\n",
       "    }\n",
       "\n",
       "    .dataframe thead th {\n",
       "        text-align: right;\n",
       "    }\n",
       "</style>\n",
       "<table border=\"1\" class=\"dataframe\">\n",
       "  <thead>\n",
       "    <tr style=\"text-align: right;\">\n",
       "      <th></th>\n",
       "      <th>date</th>\n",
       "      <th>waste_forecast</th>\n",
       "      <th>energy_forecast</th>\n",
       "      <th>energy_from_waste</th>\n",
       "      <th>energy_from_co2</th>\n",
       "      <th>total_supply</th>\n",
       "      <th>gap</th>\n",
       "    </tr>\n",
       "  </thead>\n",
       "  <tbody>\n",
       "    <tr>\n",
       "      <th>0</th>\n",
       "      <td>2025-01-31</td>\n",
       "      <td>107.255172</td>\n",
       "      <td>181.381609</td>\n",
       "      <td>53627.586207</td>\n",
       "      <td>18.138161</td>\n",
       "      <td>53645.724368</td>\n",
       "      <td>53464.342759</td>\n",
       "    </tr>\n",
       "    <tr>\n",
       "      <th>1</th>\n",
       "      <td>2025-02-01</td>\n",
       "      <td>107.910345</td>\n",
       "      <td>180.352466</td>\n",
       "      <td>53955.172414</td>\n",
       "      <td>18.035247</td>\n",
       "      <td>53973.207660</td>\n",
       "      <td>53792.855195</td>\n",
       "    </tr>\n",
       "    <tr>\n",
       "      <th>2</th>\n",
       "      <td>2025-02-02</td>\n",
       "      <td>108.565517</td>\n",
       "      <td>179.323322</td>\n",
       "      <td>54282.758621</td>\n",
       "      <td>17.932332</td>\n",
       "      <td>54300.690953</td>\n",
       "      <td>54121.367631</td>\n",
       "    </tr>\n",
       "    <tr>\n",
       "      <th>3</th>\n",
       "      <td>2025-02-03</td>\n",
       "      <td>109.220690</td>\n",
       "      <td>178.294179</td>\n",
       "      <td>54610.344828</td>\n",
       "      <td>17.829418</td>\n",
       "      <td>54628.174245</td>\n",
       "      <td>54449.880067</td>\n",
       "    </tr>\n",
       "    <tr>\n",
       "      <th>4</th>\n",
       "      <td>2025-02-04</td>\n",
       "      <td>109.875862</td>\n",
       "      <td>177.265035</td>\n",
       "      <td>54937.931034</td>\n",
       "      <td>17.726504</td>\n",
       "      <td>54955.657538</td>\n",
       "      <td>54778.392503</td>\n",
       "    </tr>\n",
       "  </tbody>\n",
       "</table>\n",
       "</div>"
      ],
      "text/plain": [
       "         date  waste_forecast  energy_forecast  energy_from_waste  \\\n",
       "0  2025-01-31      107.255172       181.381609       53627.586207   \n",
       "1  2025-02-01      107.910345       180.352466       53955.172414   \n",
       "2  2025-02-02      108.565517       179.323322       54282.758621   \n",
       "3  2025-02-03      109.220690       178.294179       54610.344828   \n",
       "4  2025-02-04      109.875862       177.265035       54937.931034   \n",
       "\n",
       "   energy_from_co2  total_supply           gap  \n",
       "0        18.138161  53645.724368  53464.342759  \n",
       "1        18.035247  53973.207660  53792.855195  \n",
       "2        17.932332  54300.690953  54121.367631  \n",
       "3        17.829418  54628.174245  54449.880067  \n",
       "4        17.726504  54955.657538  54778.392503  "
      ]
     },
     "execution_count": 6,
     "metadata": {},
     "output_type": "execute_result"
    }
   ],
   "source": [
    "# Step 3: Calculate energy supply from waste and CO2\n",
    "forecast_df[\"energy_from_waste\"] = forecast_df[\"waste_forecast\"] * WASTE_TO_ENERGY\n",
    "forecast_df[\"energy_from_co2\"] = forecast_df[\"energy_forecast\"] * CO2_TO_ENERGY\n",
    "forecast_df[\"total_supply\"] = forecast_df[\"energy_from_waste\"] + forecast_df[\"energy_from_co2\"]\n",
    "\n",
    "# Calculate supply-demand gap\n",
    "forecast_df[\"gap\"] = forecast_df[\"total_supply\"] - forecast_df[\"energy_forecast\"]\n",
    "\n",
    "forecast_df.head()\n"
   ]
  },
  {
   "cell_type": "code",
   "execution_count": 7,
   "id": "c52e564d-32ae-4bcd-9249-5cd5a1ac8a5f",
   "metadata": {},
   "outputs": [
    {
     "name": "stdout",
     "output_type": "stream",
     "text": [
      "✅ Results saved as week3_schedule.csv\n"
     ]
    }
   ],
   "source": [
    "# Step 4: Save results to CSV\n",
    "forecast_df.to_csv(\"week3_schedule.csv\", index=False)\n",
    "print(\"✅ Results saved as week3_schedule.csv\")\n"
   ]
  },
  {
   "cell_type": "code",
   "execution_count": 8,
   "id": "406ce09d-94b2-4657-bb9d-623defa6b3a0",
   "metadata": {},
   "outputs": [
    {
     "data": {
      "image/png": "[encoded data removed]",
      "text/plain": [
       "<Figure size 1000x600 with 1 Axes>"
      ]
     },
     "metadata": {},
     "output_type": "display_data"
    }
   ],
   "source": [
    "# Step 5: Plot Supply vs Demand\n",
    "plt.figure(figsize=(10,6))\n",
    "plt.plot(forecast_df[\"date\"], forecast_df[\"energy_forecast\"], label=\"Energy Demand (Predicted)\", marker=\"o\")\n",
    "plt.plot(forecast_df[\"date\"], forecast_df[\"total_supply\"], label=\"Energy Supply (Waste+CO2)\", marker=\"x\")\n",
    "\n",
    "# Highlight surplus (green) and shortage (red)\n",
    "plt.fill_between(forecast_df[\"date\"], forecast_df[\"total_supply\"], forecast_df[\"energy_forecast\"], \n",
    "                 where=(forecast_df[\"total_supply\"] < forecast_df[\"energy_forecast\"]), \n",
    "                 color=\"red\", alpha=0.3, label=\"Shortage\")\n",
    "plt.fill_between(forecast_df[\"date\"], forecast_df[\"total_supply\"], forecast_df[\"energy_forecast\"], \n",
    "                 where=(forecast_df[\"total_supply\"] >= forecast_df[\"energy_forecast\"]), \n",
    "                 color=\"green\", alpha=0.3, label=\"Surplus\")\n",
    "\n",
    "plt.xticks(rotation=45)\n",
    "plt.legend()\n",
    "plt.title(\"Week 3: Energy Supply vs Demand\")\n",
    "plt.xlabel(\"Date\")\n",
    "plt.ylabel(\"kWh\")\n",
    "plt.tight_layout()\n",
    "plt.savefig(\"week3_schedule.png\")  # Save graph\n",
    "plt.show()\n"
   ]
  },
  {
   "cell_type": "code",
   "execution_count": null,
   "id": "4ca092ec-3919-4087-a19b-21b0e4d93c5a",
   "metadata": {},
   "outputs": [],
   "source": []
  }
 ],
 "metadata": {
  "kernelspec": {
   "display_name": "Python 3 (ipykernel)",
   "language": "python",
   "name": "python3"
  },
  "language_info": {
   "codemirror_mode": {
    "name": "ipython",
    "version": 3
   },
   "file_extension": ".py",
   "mimetype": "text/x-python",
   "name": "python",
   "nbconvert_exporter": "python",
   "pygments_lexer": "ipython3",
   "version": "3.12.3"
  }
 },
 "nbformat": 4,
 "nbformat_minor": 5
}
